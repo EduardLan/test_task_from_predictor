{
 "cells": [
  {
   "cell_type": "markdown",
   "metadata": {},
   "source": [
    "## Тестовое задание от predictor\n",
    "Ищем инсайты в базе данных с чеками"
   ]
  },
  {
   "cell_type": "code",
   "execution_count": 1,
   "metadata": {},
   "outputs": [],
   "source": [
    "import pandas as pd"
   ]
  },
  {
   "cell_type": "code",
   "execution_count": 3,
   "metadata": {},
   "outputs": [
    {
     "name": "stderr",
     "output_type": "stream",
     "text": [
      "/var/folders/1p/tldrkn2j37lb7p__09j90s340000gp/T/ipykernel_95792/1267579199.py:3: DtypeWarning: Columns (4,6,7,8,9,10,11,12) have mixed types. Specify dtype option on import or set low_memory=False.\n",
      "  df = pd.read_csv(data_path_file)\n"
     ]
    }
   ],
   "source": [
    "# Читаем csv файл, меняем тип колонок.\n",
    "\n",
    "data_path_file = 'data/part-00000-tid-8370008162403743937-fb75df88-9cee-4f18-abe9-e15683243574-7517-1-c000.csv' \n",
    "\n",
    "df = pd.read_csv(data_path_file)\n",
    "df.iloc[:, [4,6,7,8,9,10,11,12]] = (df.iloc[:, [4,6,7,8,9,10,11,12]]\n",
    "                                    .apply(pd.to_numeric, errors='coerce'))\n",
    "\n",
    "df['d_date'] = pd.to_datetime(df['d_date'])\n"
   ]
  },
  {
   "cell_type": "code",
   "execution_count": 18,
   "metadata": {},
   "outputs": [
    {
     "name": "stderr",
     "output_type": "stream",
     "text": [
      "/var/folders/1p/tldrkn2j37lb7p__09j90s340000gp/T/ipykernel_95792/1518844759.py:1: FutureWarning: In a future version, `df.iloc[:, i] = newvals` will attempt to set the values inplace instead of always setting a new array. To retain the old behavior, use either `df[df.columns[i]] = newvals` or, if columns are non-unique, `df.isetitem(i, newvals)`\n",
      "  df.iloc[:, [4,6,7,8,9,10,11,12]] = (df.iloc[:, [4,6,7,8,9,10,11,12]]\n"
     ]
    }
   ],
   "source": []
  },
  {
   "cell_type": "code",
   "execution_count": 20,
   "metadata": {},
   "outputs": [],
   "source": [
    "\n"
   ]
  },
  {
   "cell_type": "code",
   "execution_count": 21,
   "metadata": {},
   "outputs": [
    {
     "name": "stdout",
     "output_type": "stream",
     "text": [
      "<class 'pandas.core.frame.DataFrame'>\n",
      "RangeIndex: 10000000 entries, 0 to 9999999\n",
      "Data columns (total 21 columns):\n",
      " #   Column           Dtype         \n",
      "---  ------           -----         \n",
      " 0   receiptid        int64         \n",
      " 1   kkt_sn           int64         \n",
      " 2   d_date           datetime64[ns]\n",
      " 3   name             object        \n",
      " 4   amount           float64       \n",
      " 5   unit             object        \n",
      " 6   price            float64       \n",
      " 7   cost             float64       \n",
      " 8   nal              float64       \n",
      " 9   electron         float64       \n",
      " 10  avans            float64       \n",
      " 11  credit           float64       \n",
      " 12  vstrechpredst    float64       \n",
      " 13  Тип региона      object        \n",
      " 14  Имя региона      object        \n",
      " 15  Тип города       object        \n",
      " 16  Имя города       object        \n",
      " 17  Тип улицы        object        \n",
      " 18  Имя улицы        object        \n",
      " 19  Тип номера дома  object        \n",
      " 20  Номер дома       object        \n",
      "dtypes: datetime64[ns](1), float64(8), int64(2), object(10)\n",
      "memory usage: 1.6+ GB\n"
     ]
    }
   ],
   "source": [
    "df.info()"
   ]
  },
  {
   "cell_type": "code",
   "execution_count": 22,
   "metadata": {},
   "outputs": [
    {
     "data": {
      "text/html": [
       "<div>\n",
       "<style scoped>\n",
       "    .dataframe tbody tr th:only-of-type {\n",
       "        vertical-align: middle;\n",
       "    }\n",
       "\n",
       "    .dataframe tbody tr th {\n",
       "        vertical-align: top;\n",
       "    }\n",
       "\n",
       "    .dataframe thead th {\n",
       "        text-align: right;\n",
       "    }\n",
       "</style>\n",
       "<table border=\"1\" class=\"dataframe\">\n",
       "  <thead>\n",
       "    <tr style=\"text-align: right;\">\n",
       "      <th></th>\n",
       "      <th>receiptid</th>\n",
       "      <th>kkt_sn</th>\n",
       "      <th>d_date</th>\n",
       "      <th>name</th>\n",
       "      <th>amount</th>\n",
       "      <th>unit</th>\n",
       "      <th>price</th>\n",
       "      <th>cost</th>\n",
       "      <th>nal</th>\n",
       "      <th>electron</th>\n",
       "      <th>...</th>\n",
       "      <th>credit</th>\n",
       "      <th>vstrechpredst</th>\n",
       "      <th>Тип региона</th>\n",
       "      <th>Имя региона</th>\n",
       "      <th>Тип города</th>\n",
       "      <th>Имя города</th>\n",
       "      <th>Тип улицы</th>\n",
       "      <th>Имя улицы</th>\n",
       "      <th>Тип номера дома</th>\n",
       "      <th>Номер дома</th>\n",
       "    </tr>\n",
       "  </thead>\n",
       "  <tbody>\n",
       "    <tr>\n",
       "      <th>0</th>\n",
       "      <td>61379295</td>\n",
       "      <td>108200088416</td>\n",
       "      <td>2018-06-07</td>\n",
       "      <td>0001 ДЕТСКИЙ ТРИКОТАЖ</td>\n",
       "      <td>1.0</td>\n",
       "      <td>--</td>\n",
       "      <td>450.0</td>\n",
       "      <td>450.0</td>\n",
       "      <td>450.0</td>\n",
       "      <td>0.0</td>\n",
       "      <td>...</td>\n",
       "      <td>0.0</td>\n",
       "      <td>0.0</td>\n",
       "      <td>обл</td>\n",
       "      <td>Новосибирская</td>\n",
       "      <td>г</td>\n",
       "      <td>Чулым</td>\n",
       "      <td>ул</td>\n",
       "      <td>Кооперативная</td>\n",
       "      <td>дом</td>\n",
       "      <td>\"=\"\"17\"\"\"</td>\n",
       "    </tr>\n",
       "    <tr>\n",
       "      <th>1</th>\n",
       "      <td>61379296</td>\n",
       "      <td>108200088416</td>\n",
       "      <td>2018-06-07</td>\n",
       "      <td>0001 ДЕТСКИЙ ТРИКОТАЖ</td>\n",
       "      <td>1.0</td>\n",
       "      <td>--</td>\n",
       "      <td>360.0</td>\n",
       "      <td>360.0</td>\n",
       "      <td>360.0</td>\n",
       "      <td>0.0</td>\n",
       "      <td>...</td>\n",
       "      <td>0.0</td>\n",
       "      <td>0.0</td>\n",
       "      <td>обл</td>\n",
       "      <td>Новосибирская</td>\n",
       "      <td>г</td>\n",
       "      <td>Чулым</td>\n",
       "      <td>ул</td>\n",
       "      <td>Кооперативная</td>\n",
       "      <td>дом</td>\n",
       "      <td>\"=\"\"17\"\"\"</td>\n",
       "    </tr>\n",
       "    <tr>\n",
       "      <th>2</th>\n",
       "      <td>61379301</td>\n",
       "      <td>108200088416</td>\n",
       "      <td>2018-06-07</td>\n",
       "      <td>0001 ДЕТСКИЙ ТРИКОТАЖ</td>\n",
       "      <td>1.0</td>\n",
       "      <td>--</td>\n",
       "      <td>250.0</td>\n",
       "      <td>250.0</td>\n",
       "      <td>250.0</td>\n",
       "      <td>0.0</td>\n",
       "      <td>...</td>\n",
       "      <td>0.0</td>\n",
       "      <td>0.0</td>\n",
       "      <td>обл</td>\n",
       "      <td>Новосибирская</td>\n",
       "      <td>г</td>\n",
       "      <td>Чулым</td>\n",
       "      <td>ул</td>\n",
       "      <td>Кооперативная</td>\n",
       "      <td>дом</td>\n",
       "      <td>\"=\"\"17\"\"\"</td>\n",
       "    </tr>\n",
       "    <tr>\n",
       "      <th>3</th>\n",
       "      <td>61429416</td>\n",
       "      <td>108200088416</td>\n",
       "      <td>2018-06-08</td>\n",
       "      <td>0001 ДЕТСКИЙ ТРИКОТАЖ</td>\n",
       "      <td>1.0</td>\n",
       "      <td>--</td>\n",
       "      <td>1500.0</td>\n",
       "      <td>1500.0</td>\n",
       "      <td>1500.0</td>\n",
       "      <td>0.0</td>\n",
       "      <td>...</td>\n",
       "      <td>0.0</td>\n",
       "      <td>0.0</td>\n",
       "      <td>обл</td>\n",
       "      <td>Новосибирская</td>\n",
       "      <td>г</td>\n",
       "      <td>Чулым</td>\n",
       "      <td>ул</td>\n",
       "      <td>Кооперативная</td>\n",
       "      <td>дом</td>\n",
       "      <td>\"=\"\"17\"\"\"</td>\n",
       "    </tr>\n",
       "    <tr>\n",
       "      <th>4</th>\n",
       "      <td>61431313</td>\n",
       "      <td>108200088416</td>\n",
       "      <td>2018-06-08</td>\n",
       "      <td>0001 ДЕТСКИЙ ТРИКОТАЖ</td>\n",
       "      <td>1.0</td>\n",
       "      <td>--</td>\n",
       "      <td>1870.0</td>\n",
       "      <td>1870.0</td>\n",
       "      <td>1870.0</td>\n",
       "      <td>0.0</td>\n",
       "      <td>...</td>\n",
       "      <td>0.0</td>\n",
       "      <td>0.0</td>\n",
       "      <td>обл</td>\n",
       "      <td>Новосибирская</td>\n",
       "      <td>г</td>\n",
       "      <td>Чулым</td>\n",
       "      <td>ул</td>\n",
       "      <td>Кооперативная</td>\n",
       "      <td>дом</td>\n",
       "      <td>\"=\"\"17\"\"\"</td>\n",
       "    </tr>\n",
       "  </tbody>\n",
       "</table>\n",
       "<p>5 rows × 21 columns</p>\n",
       "</div>"
      ],
      "text/plain": [
       "   receiptid        kkt_sn     d_date                   name  amount unit  \\\n",
       "0   61379295  108200088416 2018-06-07  0001 ДЕТСКИЙ ТРИКОТАЖ     1.0   --   \n",
       "1   61379296  108200088416 2018-06-07  0001 ДЕТСКИЙ ТРИКОТАЖ     1.0   --   \n",
       "2   61379301  108200088416 2018-06-07  0001 ДЕТСКИЙ ТРИКОТАЖ     1.0   --   \n",
       "3   61429416  108200088416 2018-06-08  0001 ДЕТСКИЙ ТРИКОТАЖ     1.0   --   \n",
       "4   61431313  108200088416 2018-06-08  0001 ДЕТСКИЙ ТРИКОТАЖ     1.0   --   \n",
       "\n",
       "    price    cost     nal  electron  ...  credit  vstrechpredst  Тип региона  \\\n",
       "0   450.0   450.0   450.0       0.0  ...     0.0            0.0          обл   \n",
       "1   360.0   360.0   360.0       0.0  ...     0.0            0.0          обл   \n",
       "2   250.0   250.0   250.0       0.0  ...     0.0            0.0          обл   \n",
       "3  1500.0  1500.0  1500.0       0.0  ...     0.0            0.0          обл   \n",
       "4  1870.0  1870.0  1870.0       0.0  ...     0.0            0.0          обл   \n",
       "\n",
       "     Имя региона Тип города Имя города Тип улицы      Имя улицы  \\\n",
       "0  Новосибирская          г      Чулым        ул  Кооперативная   \n",
       "1  Новосибирская          г      Чулым        ул  Кооперативная   \n",
       "2  Новосибирская          г      Чулым        ул  Кооперативная   \n",
       "3  Новосибирская          г      Чулым        ул  Кооперативная   \n",
       "4  Новосибирская          г      Чулым        ул  Кооперативная   \n",
       "\n",
       "  Тип номера дома Номер дома  \n",
       "0             дом  \"=\"\"17\"\"\"  \n",
       "1             дом  \"=\"\"17\"\"\"  \n",
       "2             дом  \"=\"\"17\"\"\"  \n",
       "3             дом  \"=\"\"17\"\"\"  \n",
       "4             дом  \"=\"\"17\"\"\"  \n",
       "\n",
       "[5 rows x 21 columns]"
      ]
     },
     "execution_count": 22,
     "metadata": {},
     "output_type": "execute_result"
    }
   ],
   "source": [
    "df.head()"
   ]
  },
  {
   "cell_type": "code",
   "execution_count": 6,
   "metadata": {},
   "outputs": [
    {
     "data": {
      "text/plain": [
       "Index(['receiptid', 'kkt_sn', 'd_date', 'name', 'amount', 'unit', 'price',\n",
       "       'cost', 'nal', 'electron', 'avans', 'credit', 'vstrechpredst',\n",
       "       'Тип региона', 'Имя региона', 'Тип города', 'Имя города', 'Тип улицы',\n",
       "       'Имя улицы', 'Тип номера дома', 'Номер дома'],\n",
       "      dtype='object')"
      ]
     },
     "execution_count": 6,
     "metadata": {},
     "output_type": "execute_result"
    }
   ],
   "source": [
    "df.columns"
   ]
  },
  {
   "cell_type": "code",
   "execution_count": 8,
   "metadata": {},
   "outputs": [
    {
     "data": {
      "text/plain": [
       "array([1.0, 3.0, 2.0, ..., 333.4, 285.34, 3450.75], dtype=object)"
      ]
     },
     "execution_count": 8,
     "metadata": {},
     "output_type": "execute_result"
    }
   ],
   "source": [
    "df['amount'].unique()"
   ]
  },
  {
   "cell_type": "code",
   "execution_count": 19,
   "metadata": {},
   "outputs": [
    {
     "name": "stdout",
     "output_type": "stream",
     "text": [
      "<class 'pandas.core.frame.DataFrame'>\n",
      "RangeIndex: 10000000 entries, 0 to 9999999\n",
      "Data columns (total 21 columns):\n",
      " #   Column           Dtype  \n",
      "---  ------           -----  \n",
      " 0   receiptid        int64  \n",
      " 1   kkt_sn           int64  \n",
      " 2   d_date           object \n",
      " 3   name             object \n",
      " 4   amount           float64\n",
      " 5   unit             object \n",
      " 6   price            float64\n",
      " 7   cost             float64\n",
      " 8   nal              float64\n",
      " 9   electron         float64\n",
      " 10  avans            float64\n",
      " 11  credit           float64\n",
      " 12  vstrechpredst    float64\n",
      " 13  Тип региона      object \n",
      " 14  Имя региона      object \n",
      " 15  Тип города       object \n",
      " 16  Имя города       object \n",
      " 17  Тип улицы        object \n",
      " 18  Имя улицы        object \n",
      " 19  Тип номера дома  object \n",
      " 20  Номер дома       object \n",
      "dtypes: float64(8), int64(2), object(11)\n",
      "memory usage: 1.6+ GB\n"
     ]
    }
   ],
   "source": [
    "df.info()"
   ]
  },
  {
   "cell_type": "code",
   "execution_count": null,
   "metadata": {},
   "outputs": [],
   "source": []
  }
 ],
 "metadata": {
  "kernelspec": {
   "display_name": "venv",
   "language": "python",
   "name": "python3"
  },
  "language_info": {
   "codemirror_mode": {
    "name": "ipython",
    "version": 3
   },
   "file_extension": ".py",
   "mimetype": "text/x-python",
   "name": "python",
   "nbconvert_exporter": "python",
   "pygments_lexer": "ipython3",
   "version": "3.10.6"
  },
  "orig_nbformat": 4,
  "vscode": {
   "interpreter": {
    "hash": "63796e44d27cd835f750f74727fd47eb59fdce647e72c256b881c468ddaf7f08"
   }
  }
 },
 "nbformat": 4,
 "nbformat_minor": 2
}
