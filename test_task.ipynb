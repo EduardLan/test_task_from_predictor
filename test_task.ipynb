{
 "cells": [
  {
   "cell_type": "markdown",
   "metadata": {},
   "source": [
    "# Тестовое задание от predictor\n",
    "Ищем инсайты в базе данных с чеками"
   ]
  },
  {
   "cell_type": "code",
   "execution_count": 1,
   "metadata": {},
   "outputs": [],
   "source": [
    "import sys\n",
    "import pandas as pd\n",
    "import numpy as np\n",
    "from pandas_profiling import ProfileReport\n",
    "from matplotlib import pyplot as plt\n",
    "import plotly.graph_objects as go\n",
    "\n",
    "if not sys.warnoptions:\n",
    "    import warnings\n",
    "    warnings.simplefilter(\"ignore\")\n",
    "\n",
    "pd.set_option('display.max_rows', 100)\n",
    "pd.set_option('display.max_columns', 100)"
   ]
  },
  {
   "cell_type": "code",
   "execution_count": 2,
   "metadata": {},
   "outputs": [],
   "source": [
    "# Читаем csv файл, меняем тип колонок.\n",
    "\n",
    "data_path_file = 'data/part-00000-tid-8370008162403743937-fb75df88-9cee-4f18-abe9-e15683243574-7517-1-c000.csv' \n",
    "\n",
    "df = pd.read_csv(data_path_file)\n",
    "df.iloc[:, [4,6,7,8,9,10,11,12]] = (df.iloc[:, [4,6,7,8,9,10,11,12]]\n",
    "                                    .apply(pd.to_numeric, errors='coerce'))\n",
    "\n",
    "df['d_date'] = pd.to_datetime(df['d_date'])\n"
   ]
  },
  {
   "cell_type": "markdown",
   "metadata": {},
   "source": [
    "## EDA - первичный (разведочный) анализ данных\n",
    "Используем библиотеку ProfileReport  \n",
    "!!! Готовый репорт можно скачать здесь: https://disk.yandex.ru/d/i5ZEtkIjS-xsCg\n"
   ]
  },
  {
   "cell_type": "code",
   "execution_count": 3,
   "metadata": {},
   "outputs": [],
   "source": [
    "# Генерируем профайл репорт для первичного анализа базы\n",
    "profile = ProfileReport(df.sample(n=100000, random_state=32), title=\"Test task Profiling Report\")\n",
    "profile.to_file(\"data/test_task_report.html\")\n",
    "\n",
    "# Получившийся файл можно скачать по ссылке: https://disk.yandex.ru/d/i5ZEtkIjS-xsCg"
   ]
  },
  {
   "cell_type": "code",
   "execution_count": 4,
   "metadata": {},
   "outputs": [
    {
     "name": "stdout",
     "output_type": "stream",
     "text": [
      "<class 'pandas.core.frame.DataFrame'>\n",
      "RangeIndex: 10000000 entries, 0 to 9999999\n",
      "Data columns (total 21 columns):\n",
      " #   Column           Dtype         \n",
      "---  ------           -----         \n",
      " 0   receiptid        int64         \n",
      " 1   kkt_sn           int64         \n",
      " 2   d_date           datetime64[ns]\n",
      " 3   name             object        \n",
      " 4   amount           float64       \n",
      " 5   unit             object        \n",
      " 6   price            float64       \n",
      " 7   cost             float64       \n",
      " 8   nal              float64       \n",
      " 9   electron         float64       \n",
      " 10  avans            float64       \n",
      " 11  credit           float64       \n",
      " 12  vstrechpredst    float64       \n",
      " 13  Тип региона      object        \n",
      " 14  Имя региона      object        \n",
      " 15  Тип города       object        \n",
      " 16  Имя города       object        \n",
      " 17  Тип улицы        object        \n",
      " 18  Имя улицы        object        \n",
      " 19  Тип номера дома  object        \n",
      " 20  Номер дома       object        \n",
      "dtypes: datetime64[ns](1), float64(8), int64(2), object(10)\n",
      "memory usage: 1.6+ GB\n"
     ]
    }
   ],
   "source": [
    "df.info()"
   ]
  },
  {
   "cell_type": "code",
   "execution_count": 5,
   "metadata": {},
   "outputs": [
    {
     "data": {
      "text/html": [
       "<div>\n",
       "<style scoped>\n",
       "    .dataframe tbody tr th:only-of-type {\n",
       "        vertical-align: middle;\n",
       "    }\n",
       "\n",
       "    .dataframe tbody tr th {\n",
       "        vertical-align: top;\n",
       "    }\n",
       "\n",
       "    .dataframe thead th {\n",
       "        text-align: right;\n",
       "    }\n",
       "</style>\n",
       "<table border=\"1\" class=\"dataframe\">\n",
       "  <thead>\n",
       "    <tr style=\"text-align: right;\">\n",
       "      <th></th>\n",
       "      <th>receiptid</th>\n",
       "      <th>kkt_sn</th>\n",
       "      <th>d_date</th>\n",
       "      <th>name</th>\n",
       "      <th>amount</th>\n",
       "      <th>unit</th>\n",
       "      <th>price</th>\n",
       "      <th>cost</th>\n",
       "      <th>nal</th>\n",
       "      <th>electron</th>\n",
       "      <th>avans</th>\n",
       "      <th>credit</th>\n",
       "      <th>vstrechpredst</th>\n",
       "      <th>Тип региона</th>\n",
       "      <th>Имя региона</th>\n",
       "      <th>Тип города</th>\n",
       "      <th>Имя города</th>\n",
       "      <th>Тип улицы</th>\n",
       "      <th>Имя улицы</th>\n",
       "      <th>Тип номера дома</th>\n",
       "      <th>Номер дома</th>\n",
       "    </tr>\n",
       "  </thead>\n",
       "  <tbody>\n",
       "    <tr>\n",
       "      <th>0</th>\n",
       "      <td>61379295</td>\n",
       "      <td>108200088416</td>\n",
       "      <td>2018-06-07</td>\n",
       "      <td>0001 ДЕТСКИЙ ТРИКОТАЖ</td>\n",
       "      <td>1.0</td>\n",
       "      <td>--</td>\n",
       "      <td>450.0</td>\n",
       "      <td>450.0</td>\n",
       "      <td>450.0</td>\n",
       "      <td>0.0</td>\n",
       "      <td>0.0</td>\n",
       "      <td>0.0</td>\n",
       "      <td>0.0</td>\n",
       "      <td>обл</td>\n",
       "      <td>Новосибирская</td>\n",
       "      <td>г</td>\n",
       "      <td>Чулым</td>\n",
       "      <td>ул</td>\n",
       "      <td>Кооперативная</td>\n",
       "      <td>дом</td>\n",
       "      <td>\"=\"\"17\"\"\"</td>\n",
       "    </tr>\n",
       "    <tr>\n",
       "      <th>1</th>\n",
       "      <td>61379296</td>\n",
       "      <td>108200088416</td>\n",
       "      <td>2018-06-07</td>\n",
       "      <td>0001 ДЕТСКИЙ ТРИКОТАЖ</td>\n",
       "      <td>1.0</td>\n",
       "      <td>--</td>\n",
       "      <td>360.0</td>\n",
       "      <td>360.0</td>\n",
       "      <td>360.0</td>\n",
       "      <td>0.0</td>\n",
       "      <td>0.0</td>\n",
       "      <td>0.0</td>\n",
       "      <td>0.0</td>\n",
       "      <td>обл</td>\n",
       "      <td>Новосибирская</td>\n",
       "      <td>г</td>\n",
       "      <td>Чулым</td>\n",
       "      <td>ул</td>\n",
       "      <td>Кооперативная</td>\n",
       "      <td>дом</td>\n",
       "      <td>\"=\"\"17\"\"\"</td>\n",
       "    </tr>\n",
       "    <tr>\n",
       "      <th>2</th>\n",
       "      <td>61379301</td>\n",
       "      <td>108200088416</td>\n",
       "      <td>2018-06-07</td>\n",
       "      <td>0001 ДЕТСКИЙ ТРИКОТАЖ</td>\n",
       "      <td>1.0</td>\n",
       "      <td>--</td>\n",
       "      <td>250.0</td>\n",
       "      <td>250.0</td>\n",
       "      <td>250.0</td>\n",
       "      <td>0.0</td>\n",
       "      <td>0.0</td>\n",
       "      <td>0.0</td>\n",
       "      <td>0.0</td>\n",
       "      <td>обл</td>\n",
       "      <td>Новосибирская</td>\n",
       "      <td>г</td>\n",
       "      <td>Чулым</td>\n",
       "      <td>ул</td>\n",
       "      <td>Кооперативная</td>\n",
       "      <td>дом</td>\n",
       "      <td>\"=\"\"17\"\"\"</td>\n",
       "    </tr>\n",
       "    <tr>\n",
       "      <th>3</th>\n",
       "      <td>61429416</td>\n",
       "      <td>108200088416</td>\n",
       "      <td>2018-06-08</td>\n",
       "      <td>0001 ДЕТСКИЙ ТРИКОТАЖ</td>\n",
       "      <td>1.0</td>\n",
       "      <td>--</td>\n",
       "      <td>1500.0</td>\n",
       "      <td>1500.0</td>\n",
       "      <td>1500.0</td>\n",
       "      <td>0.0</td>\n",
       "      <td>0.0</td>\n",
       "      <td>0.0</td>\n",
       "      <td>0.0</td>\n",
       "      <td>обл</td>\n",
       "      <td>Новосибирская</td>\n",
       "      <td>г</td>\n",
       "      <td>Чулым</td>\n",
       "      <td>ул</td>\n",
       "      <td>Кооперативная</td>\n",
       "      <td>дом</td>\n",
       "      <td>\"=\"\"17\"\"\"</td>\n",
       "    </tr>\n",
       "    <tr>\n",
       "      <th>4</th>\n",
       "      <td>61431313</td>\n",
       "      <td>108200088416</td>\n",
       "      <td>2018-06-08</td>\n",
       "      <td>0001 ДЕТСКИЙ ТРИКОТАЖ</td>\n",
       "      <td>1.0</td>\n",
       "      <td>--</td>\n",
       "      <td>1870.0</td>\n",
       "      <td>1870.0</td>\n",
       "      <td>1870.0</td>\n",
       "      <td>0.0</td>\n",
       "      <td>0.0</td>\n",
       "      <td>0.0</td>\n",
       "      <td>0.0</td>\n",
       "      <td>обл</td>\n",
       "      <td>Новосибирская</td>\n",
       "      <td>г</td>\n",
       "      <td>Чулым</td>\n",
       "      <td>ул</td>\n",
       "      <td>Кооперативная</td>\n",
       "      <td>дом</td>\n",
       "      <td>\"=\"\"17\"\"\"</td>\n",
       "    </tr>\n",
       "  </tbody>\n",
       "</table>\n",
       "</div>"
      ],
      "text/plain": [
       "   receiptid        kkt_sn     d_date                   name  amount unit  \\\n",
       "0   61379295  108200088416 2018-06-07  0001 ДЕТСКИЙ ТРИКОТАЖ     1.0   --   \n",
       "1   61379296  108200088416 2018-06-07  0001 ДЕТСКИЙ ТРИКОТАЖ     1.0   --   \n",
       "2   61379301  108200088416 2018-06-07  0001 ДЕТСКИЙ ТРИКОТАЖ     1.0   --   \n",
       "3   61429416  108200088416 2018-06-08  0001 ДЕТСКИЙ ТРИКОТАЖ     1.0   --   \n",
       "4   61431313  108200088416 2018-06-08  0001 ДЕТСКИЙ ТРИКОТАЖ     1.0   --   \n",
       "\n",
       "    price    cost     nal  electron  avans  credit  vstrechpredst Тип региона  \\\n",
       "0   450.0   450.0   450.0       0.0    0.0     0.0            0.0         обл   \n",
       "1   360.0   360.0   360.0       0.0    0.0     0.0            0.0         обл   \n",
       "2   250.0   250.0   250.0       0.0    0.0     0.0            0.0         обл   \n",
       "3  1500.0  1500.0  1500.0       0.0    0.0     0.0            0.0         обл   \n",
       "4  1870.0  1870.0  1870.0       0.0    0.0     0.0            0.0         обл   \n",
       "\n",
       "     Имя региона Тип города Имя города Тип улицы      Имя улицы  \\\n",
       "0  Новосибирская          г      Чулым        ул  Кооперативная   \n",
       "1  Новосибирская          г      Чулым        ул  Кооперативная   \n",
       "2  Новосибирская          г      Чулым        ул  Кооперативная   \n",
       "3  Новосибирская          г      Чулым        ул  Кооперативная   \n",
       "4  Новосибирская          г      Чулым        ул  Кооперативная   \n",
       "\n",
       "  Тип номера дома Номер дома  \n",
       "0             дом  \"=\"\"17\"\"\"  \n",
       "1             дом  \"=\"\"17\"\"\"  \n",
       "2             дом  \"=\"\"17\"\"\"  \n",
       "3             дом  \"=\"\"17\"\"\"  \n",
       "4             дом  \"=\"\"17\"\"\"  "
      ]
     },
     "execution_count": 5,
     "metadata": {},
     "output_type": "execute_result"
    }
   ],
   "source": [
    "df.head()"
   ]
  },
  {
   "cell_type": "markdown",
   "metadata": {},
   "source": [
    "### Отсеиваем регионы с кол-вом чеков меньше 20 тыс"
   ]
  },
  {
   "cell_type": "code",
   "execution_count": 6,
   "metadata": {},
   "outputs": [
    {
     "data": {
      "text/plain": [
       "['Ивановская',\n",
       " 'Псковская',\n",
       " 'Костромская',\n",
       " 'Карелия',\n",
       " 'Калининградская',\n",
       " 'Калужская',\n",
       " 'Брянская',\n",
       " 'Орловская',\n",
       " 'Камчатский',\n",
       " 'Владимирская']"
      ]
     },
     "execution_count": 6,
     "metadata": {},
     "output_type": "execute_result"
    }
   ],
   "source": [
    "# Отсеиваем регионы с кол-вом чеков меньше 10 тыс\n",
    "df_regions = (df[['Имя региона', 'receiptid']]\n",
    "    .drop_duplicates()\n",
    "    .groupby(by='Имя региона')\n",
    "    .count() \n",
    ").sort_values(by='receiptid')    \n",
    "\n",
    "regions = df_regions[df_regions['receiptid']>=20000].index.to_numpy()\n",
    "regions = list(regions[regions!='0'])\n",
    "regions[:10]"
   ]
  },
  {
   "cell_type": "markdown",
   "metadata": {},
   "source": [
    "## Анализируем суммарный доход регионов в разрезе типа платежа"
   ]
  },
  {
   "cell_type": "code",
   "execution_count": 7,
   "metadata": {},
   "outputs": [],
   "source": [
    "dupl_cols = ['receiptid']\n",
    "pay_type_cols = ['nal', 'electron', 'avans', 'credit']\n",
    "region_col = ['Имя региона']\n",
    "\n",
    "df_pay_type =  df.drop_duplicates(subset=dupl_cols).loc[: , dupl_cols+pay_type_cols+region_col]\n",
    "mask = df_pay_type[pay_type_cols].sum(axis=1) <=0\n",
    "df_pay_type = df_pay_type[~mask]\n"
   ]
  },
  {
   "cell_type": "code",
   "execution_count": 8,
   "metadata": {},
   "outputs": [
    {
     "data": {
      "text/plain": [
       "Text(0.5, 1.0, 'Доходы (суммы чеков) по регионам за весь период в разрезе типа платежа')"
      ]
     },
     "execution_count": 8,
     "metadata": {},
     "output_type": "execute_result"
    },
    {
     "data": {
      "image/png": "[encoded data removed]",
      "text/plain": [
       "<Figure size 1200x600 with 1 Axes>"
      ]
     },
     "metadata": {},
     "output_type": "display_data"
    }
   ],
   "source": [
    "# Группировка по регионам\n",
    "df_pay = (df_pay_type[region_col+pay_type_cols]\n",
    "            .groupby(by=region_col).sum())\n",
    "# Оставляем только регионы из списка regions\n",
    "df_pay = df_pay.T.loc[:, regions].T\n",
    "\n",
    "df_pay['total'] = df_pay[pay_type_cols].sum(axis=1)\n",
    "df_pay = df_pay.sort_values(by='total', ascending=False)\n",
    "\n",
    "# Строим барчарт\n",
    "(df_pay[pay_type_cols].iloc[:30]\n",
    "    .plot.bar(stacked=True, figsize=(12, 6)))\n",
    "plt.title('Доходы (суммы чеков) по регионам за весь период в разрезе типа платежа')"
   ]
  },
  {
   "cell_type": "markdown",
   "metadata": {},
   "source": [
    "## Анализируем зависимость средней суммы чека от региона в разрезе типа платежа"
   ]
  },
  {
   "cell_type": "code",
   "execution_count": 9,
   "metadata": {},
   "outputs": [
    {
     "data": {
      "text/plain": [
       "Text(0.5, 1.0, 'Средняя сумма чеков по регионам за весь период в разрезе типа платежа')"
      ]
     },
     "execution_count": 9,
     "metadata": {},
     "output_type": "execute_result"
    },
    {
     "data": {
      "image/png": "[encoded data removed]",
      "text/plain": [
       "<Figure size 1200x600 with 1 Axes>"
      ]
     },
     "metadata": {},
     "output_type": "display_data"
    }
   ],
   "source": [
    "# Группировка по регионам\n",
    "df_pay_type['total'] = df_pay_type[pay_type_cols].sum(axis=1)\n",
    "df_pay = (df_pay_type[region_col+pay_type_cols+['total']]\n",
    "            .groupby(by=region_col).mean())\n",
    "# Оставляем только регионы из списка regions\n",
    "df_pay = df_pay.T.loc[:, regions].T\n",
    "\n",
    "df_pay = df_pay.sort_values(by='total', ascending=False)\n",
    "\n",
    "# Строим барчарт\n",
    "(df_pay[pay_type_cols].iloc[:20]\n",
    "    .plot.bar(stacked=False, figsize=(12, 6)))\n",
    "plt.title('Средняя сумма чеков по регионам за весь период в разрезе типа платежа')"
   ]
  },
  {
   "cell_type": "markdown",
   "metadata": {},
   "source": [
    "## Анализируем распределение доходов по дням недели по регионам"
   ]
  },
  {
   "cell_type": "code",
   "execution_count": 10,
   "metadata": {},
   "outputs": [],
   "source": [
    "dupl_cols = ['receiptid']\n",
    "pay_type_cols = ['nal', 'electron', 'avans', 'credit']\n",
    "region_col = ['Имя региона']\n",
    "date_col = ['d_date']\n",
    "\n",
    "df_wd_income = (df.drop_duplicates(subset=dupl_cols)\n",
    "                .loc[: , date_col+ dupl_cols+pay_type_cols+region_col])\n",
    "mask = df_wd_income[pay_type_cols].sum(axis=1) <=0\n",
    "df_wd_income = df_wd_income[~mask]\n",
    "df_wd_income['d_date'] = df_wd_income['d_date'].dt.day_name()\n",
    "\n",
    "df_wd_income['total'] = df_wd_income[pay_type_cols].sum(axis=1)\n",
    "df_wd_income = df_wd_income[['d_date', 'Имя региона', 'total']]\n",
    "df_wd_income = df_wd_income.groupby(by=['d_date', 'Имя региона']).mean()\n",
    "df_wd_income = df_wd_income.T.stack(\"Имя региона\").droplevel(0,0).T.loc[:, regions].T.sort_index(ascending=False)\n",
    "old_cols = ['Monday', 'Tuesday', 'Wednesday', 'Thursday', 'Friday', 'Saturday', 'Sunday']\n",
    "new_cols = ['Понедельник', 'Вторник', 'Среда', 'Четверг', 'Пятница', 'Суббота', 'Воскресенье']\n",
    "df_wd_income = df_wd_income[old_cols]\n",
    "df_wd_income.rename(columns=dict(zip(old_cols, new_cols)), inplace=True)\n",
    "\n",
    "# Проводим нормирование по строкам (регионам), получаем процентное распределение \n",
    "# доходов по дням недели\n",
    "df_wd_income = (100*df_wd_income.div(df_wd_income.sum(axis=1).to_numpy(), axis=0)).round(1)\n",
    "\n",
    "# Фильтруем выбросы\n",
    "df_wd_income = df_wd_income[(df_wd_income.max(axis=1)<25) & (df_wd_income.min(axis=1)>7)]"
   ]
  },
  {
   "cell_type": "code",
   "execution_count": 11,
   "metadata": {},
   "outputs": [
    {
     "data": {
      "application/vnd.plotly.v1+json": {
       "config": {
        "plotlyServerURL": "https://plot.ly"
       },
       "data": [
        {
         "colorscale": [
          [
           0,
           "#440154"
          ],
          [
           0.1111111111111111,
           "#482878"
          ],
          [
           0.2222222222222222,
           "#3e4989"
          ],
          [
           0.3333333333333333,
           "#31688e"
          ],
          [
           0.4444444444444444,
           "#26828e"
          ],
          [
           0.5555555555555556,
           "#1f9e89"
          ],
          [
           0.6666666666666666,
           "#35b779"
          ],
          [
           0.7777777777777778,
           "#6ece58"
          ],
          [
           0.8888888888888888,
           "#b5de2b"
          ],
          [
           1,
           "#fde725"
          ]
         ],
         "type": "heatmap",
         "x": [
          "Понедельник",
          "Вторник",
          "Среда",
          "Четверг",
          "Пятница",
          "Суббота",
          "Воскресенье"
         ],
         "y": [
          "Ярославская",
          "Чувашская (Чувашия)",
          "Челябинская",
          "Хакасия",
          "Хабаровский",
          "Удмуртская",
          "Тюменская",
          "Тульская",
          "Томская",
          "Тверская",
          "Татарстан",
          "Смоленская",
          "Севастополь",
          "Саратовская",
          "Санкт-Петербург",
          "Самарская",
          "Рязанская",
          "Ростовская",
          "Пермский",
          "Пензенская",
          "Орловская",
          "Омская",
          "Новгородская",
          "Нижегородская",
          "Московская",
          "Марий Эл",
          "Липецкая",
          "Ленинградская",
          "Курская",
          "Курганская",
          "Крым",
          "Красноярский",
          "Краснодарский",
          "Коми",
          "Кировская",
          "Кемеровская",
          "Карелия",
          "Камчатский",
          "Калмыкия",
          "Калининградская",
          "Кабардино-Балкарская",
          "Иркутская",
          "Ивановская",
          "Забайкальский",
          "Воронежская",
          "Вологодская",
          "Волгоградская",
          "Владимирская",
          "Бурятия",
          "Брянская",
          "Белгородская",
          "Башкортостан",
          "Астраханская",
          "Амурская"
         ],
         "z": [
          [
           14.6,
           13.6,
           15,
           13,
           14,
           15.9,
           13.9
          ],
          [
           13.3,
           14.3,
           13.7,
           14.8,
           16.8,
           13.2,
           13.9
          ],
          [
           13.3,
           13.6,
           13.8,
           16.1,
           14.9,
           14.2,
           14.1
          ],
          [
           13.9,
           14,
           15.1,
           14.1,
           9.9,
           13,
           20
          ],
          [
           13.1,
           13.9,
           15.4,
           13.4,
           13,
           19.4,
           11.8
          ],
          [
           15.3,
           14.8,
           13.2,
           13.5,
           12.1,
           13.6,
           17.6
          ],
          [
           10.8,
           14.8,
           22.3,
           11.5,
           8.1,
           13.6,
           18.9
          ],
          [
           14.7,
           13.6,
           14.2,
           15.1,
           15,
           13.8,
           13.6
          ],
          [
           12.9,
           14.5,
           14.1,
           15.6,
           16.5,
           11.4,
           15.1
          ],
          [
           14,
           14.6,
           14.4,
           15.6,
           15.6,
           11.2,
           14.5
          ],
          [
           14.3,
           17.9,
           16.4,
           14.2,
           10.7,
           9.7,
           16.8
          ],
          [
           17.8,
           20.3,
           13.5,
           14.9,
           9,
           8.8,
           15.7
          ],
          [
           13.5,
           13.5,
           15.8,
           14.1,
           10.1,
           21.5,
           11.4
          ],
          [
           13.9,
           17.4,
           14.1,
           13.1,
           12.2,
           12.2,
           17.1
          ],
          [
           13.7,
           13.3,
           17,
           15.4,
           9.4,
           13.3,
           17.9
          ],
          [
           14.5,
           15.3,
           15.5,
           13,
           13.2,
           12.8,
           15.8
          ],
          [
           13.6,
           11.6,
           20.4,
           13,
           10.4,
           17.1,
           13.9
          ],
          [
           13.1,
           18.2,
           13.9,
           13.3,
           15.3,
           11.5,
           14.8
          ],
          [
           16.1,
           15.1,
           14.6,
           15.6,
           11.7,
           10.8,
           16.1
          ],
          [
           20.3,
           16.9,
           17.5,
           13.3,
           8.4,
           8,
           15.8
          ],
          [
           14.3,
           15,
           14.5,
           13.6,
           12.8,
           14.2,
           15.7
          ],
          [
           12.6,
           13,
           13.3,
           13.3,
           16.5,
           17,
           14.3
          ],
          [
           16.3,
           14.2,
           14,
           13.2,
           10.9,
           13.7,
           17.7
          ],
          [
           11.5,
           12.3,
           16.3,
           14.4,
           14.4,
           13,
           18
          ],
          [
           20.4,
           18.4,
           13.4,
           12.1,
           10.4,
           7.4,
           17.9
          ],
          [
           11.5,
           11.2,
           13.1,
           16.6,
           19.1,
           16.4,
           12
          ],
          [
           11.9,
           18.3,
           13.2,
           15.2,
           13.8,
           13.4,
           14.3
          ],
          [
           22.2,
           17.9,
           12.6,
           10.5,
           11,
           12.8,
           13.1
          ],
          [
           15.2,
           14.3,
           15.8,
           19.1,
           12.2,
           9,
           14.5
          ],
          [
           15.7,
           16.9,
           14.8,
           14.3,
           10.7,
           11.8,
           15.8
          ],
          [
           13.3,
           16.3,
           14.9,
           13.7,
           11.8,
           12.1,
           18
          ],
          [
           14.2,
           15.7,
           13.6,
           14.8,
           13.5,
           10.9,
           17.4
          ],
          [
           15.3,
           14.3,
           14.1,
           17.3,
           11.7,
           11.2,
           16.1
          ],
          [
           15.3,
           13.6,
           14.4,
           15.7,
           12.5,
           10.6,
           17.8
          ],
          [
           13.5,
           16.5,
           17.1,
           11.8,
           10.8,
           17.1,
           13.3
          ],
          [
           13.8,
           14.3,
           15.5,
           15.1,
           14.2,
           13.7,
           13.3
          ],
          [
           16.6,
           10.1,
           15.6,
           22.4,
           13.4,
           10.5,
           11.4
          ],
          [
           11.7,
           11.4,
           12.3,
           17.6,
           19.8,
           15.2,
           12.1
          ],
          [
           18,
           18,
           18.1,
           10.8,
           9.2,
           10.9,
           15
          ],
          [
           18.7,
           12.6,
           16.4,
           13.4,
           12.9,
           10.2,
           15.8
          ],
          [
           12.1,
           16.5,
           12.3,
           13.2,
           20.5,
           13.5,
           11.9
          ],
          [
           15.2,
           18.6,
           18.9,
           13.1,
           11.1,
           9.5,
           13.8
          ],
          [
           22,
           14.4,
           15.9,
           13.9,
           10.7,
           10,
           13.2
          ],
          [
           13.7,
           16,
           13.7,
           16.9,
           12.4,
           14.8,
           12.6
          ],
          [
           13.2,
           17,
           18.3,
           17.9,
           9.9,
           8.4,
           15.3
          ],
          [
           14.6,
           16.8,
           15.4,
           14.8,
           13.5,
           12.4,
           12.6
          ],
          [
           13.9,
           15.2,
           14.3,
           14.8,
           11.2,
           8.8,
           21.8
          ],
          [
           13.4,
           14.2,
           13.1,
           13.7,
           15.1,
           16.6,
           13.9
          ],
          [
           18.3,
           14.6,
           14.3,
           15,
           12.4,
           10.5,
           15
          ],
          [
           18.4,
           15.1,
           19.2,
           15.8,
           9.3,
           8.7,
           13.5
          ],
          [
           12.3,
           14.1,
           14,
           16.8,
           15.3,
           15,
           12.5
          ],
          [
           13.4,
           17.2,
           13.2,
           14.7,
           13.9,
           14.1,
           13.4
          ],
          [
           14.2,
           15,
           14.8,
           14.3,
           14.7,
           13.1,
           14
          ],
          [
           15.7,
           15,
           14.1,
           14.5,
           11.9,
           12.6,
           16.1
          ]
         ]
        }
       ],
       "layout": {
        "height": 1800,
        "template": {
         "data": {
          "bar": [
           {
            "error_x": {
             "color": "#2a3f5f"
            },
            "error_y": {
             "color": "#2a3f5f"
            },
            "marker": {
             "line": {
              "color": "#E5ECF6",
              "width": 0.5
             },
             "pattern": {
              "fillmode": "overlay",
              "size": 10,
              "solidity": 0.2
             }
            },
            "type": "bar"
           }
          ],
          "barpolar": [
           {
            "marker": {
             "line": {
              "color": "#E5ECF6",
              "width": 0.5
             },
             "pattern": {
              "fillmode": "overlay",
              "size": 10,
              "solidity": 0.2
             }
            },
            "type": "barpolar"
           }
          ],
          "carpet": [
           {
            "aaxis": {
             "endlinecolor": "#2a3f5f",
             "gridcolor": "white",
             "linecolor": "white",
             "minorgridcolor": "white",
             "startlinecolor": "#2a3f5f"
            },
            "baxis": {
             "endlinecolor": "#2a3f5f",
             "gridcolor": "white",
             "linecolor": "white",
             "minorgridcolor": "white",
             "startlinecolor": "#2a3f5f"
            },
            "type": "carpet"
           }
          ],
          "choropleth": [
           {
            "colorbar": {
             "outlinewidth": 0,
             "ticks": ""
            },
            "type": "choropleth"
           }
          ],
          "contour": [
           {
            "colorbar": {
             "outlinewidth": 0,
             "ticks": ""
            },
            "colorscale": [
             [
              0,
              "#0d0887"
             ],
             [
              0.1111111111111111,
              "#46039f"
             ],
             [
              0.2222222222222222,
              "#7201a8"
             ],
             [
              0.3333333333333333,
              "#9c179e"
             ],
             [
              0.4444444444444444,
              "#bd3786"
             ],
             [
              0.5555555555555556,
              "#d8576b"
             ],
             [
              0.6666666666666666,
              "#ed7953"
             ],
             [
              0.7777777777777778,
              "#fb9f3a"
             ],
             [
              0.8888888888888888,
              "#fdca26"
             ],
             [
              1,
              "#f0f921"
             ]
            ],
            "type": "contour"
           }
          ],
          "contourcarpet": [
           {
            "colorbar": {
             "outlinewidth": 0,
             "ticks": ""
            },
            "type": "contourcarpet"
           }
          ],
          "heatmap": [
           {
            "colorbar": {
             "outlinewidth": 0,
             "ticks": ""
            },
            "colorscale": [
             [
              0,
              "#0d0887"
             ],
             [
              0.1111111111111111,
              "#46039f"
             ],
             [
              0.2222222222222222,
              "#7201a8"
             ],
             [
              0.3333333333333333,
              "#9c179e"
             ],
             [
              0.4444444444444444,
              "#bd3786"
             ],
             [
              0.5555555555555556,
              "#d8576b"
             ],
             [
              0.6666666666666666,
              "#ed7953"
             ],
             [
              0.7777777777777778,
              "#fb9f3a"
             ],
             [
              0.8888888888888888,
              "#fdca26"
             ],
             [
              1,
              "#f0f921"
             ]
            ],
            "type": "heatmap"
           }
          ],
          "heatmapgl": [
           {
            "colorbar": {
             "outlinewidth": 0,
             "ticks": ""
            },
            "colorscale": [
             [
              0,
              "#0d0887"
             ],
             [
              0.1111111111111111,
              "#46039f"
             ],
             [
              0.2222222222222222,
              "#7201a8"
             ],
             [
              0.3333333333333333,
              "#9c179e"
             ],
             [
              0.4444444444444444,
              "#bd3786"
             ],
             [
              0.5555555555555556,
              "#d8576b"
             ],
             [
              0.6666666666666666,
              "#ed7953"
             ],
             [
              0.7777777777777778,
              "#fb9f3a"
             ],
             [
              0.8888888888888888,
              "#fdca26"
             ],
             [
              1,
              "#f0f921"
             ]
            ],
            "type": "heatmapgl"
           }
          ],
          "histogram": [
           {
            "marker": {
             "pattern": {
              "fillmode": "overlay",
              "size": 10,
              "solidity": 0.2
             }
            },
            "type": "histogram"
           }
          ],
          "histogram2d": [
           {
            "colorbar": {
             "outlinewidth": 0,
             "ticks": ""
            },
            "colorscale": [
             [
              0,
              "#0d0887"
             ],
             [
              0.1111111111111111,
              "#46039f"
             ],
             [
              0.2222222222222222,
              "#7201a8"
             ],
             [
              0.3333333333333333,
              "#9c179e"
             ],
             [
              0.4444444444444444,
              "#bd3786"
             ],
             [
              0.5555555555555556,
              "#d8576b"
             ],
             [
              0.6666666666666666,
              "#ed7953"
             ],
             [
              0.7777777777777778,
              "#fb9f3a"
             ],
             [
              0.8888888888888888,
              "#fdca26"
             ],
             [
              1,
              "#f0f921"
             ]
            ],
            "type": "histogram2d"
           }
          ],
          "histogram2dcontour": [
           {
            "colorbar": {
             "outlinewidth": 0,
             "ticks": ""
            },
            "colorscale": [
             [
              0,
              "#0d0887"
             ],
             [
              0.1111111111111111,
              "#46039f"
             ],
             [
              0.2222222222222222,
              "#7201a8"
             ],
             [
              0.3333333333333333,
              "#9c179e"
             ],
             [
              0.4444444444444444,
              "#bd3786"
             ],
             [
              0.5555555555555556,
              "#d8576b"
             ],
             [
              0.6666666666666666,
              "#ed7953"
             ],
             [
              0.7777777777777778,
              "#fb9f3a"
             ],
             [
              0.8888888888888888,
              "#fdca26"
             ],
             [
              1,
              "#f0f921"
             ]
            ],
            "type": "histogram2dcontour"
           }
          ],
          "mesh3d": [
           {
            "colorbar": {
             "outlinewidth": 0,
             "ticks": ""
            },
            "type": "mesh3d"
           }
          ],
          "parcoords": [
           {
            "line": {
             "colorbar": {
              "outlinewidth": 0,
              "ticks": ""
             }
            },
            "type": "parcoords"
           }
          ],
          "pie": [
           {
            "automargin": true,
            "type": "pie"
           }
          ],
          "scatter": [
           {
            "fillpattern": {
             "fillmode": "overlay",
             "size": 10,
             "solidity": 0.2
            },
            "type": "scatter"
           }
          ],
          "scatter3d": [
           {
            "line": {
             "colorbar": {
              "outlinewidth": 0,
              "ticks": ""
             }
            },
            "marker": {
             "colorbar": {
              "outlinewidth": 0,
              "ticks": ""
             }
            },
            "type": "scatter3d"
           }
          ],
          "scattercarpet": [
           {
            "marker": {
             "colorbar": {
              "outlinewidth": 0,
              "ticks": ""
             }
            },
            "type": "scattercarpet"
           }
          ],
          "scattergeo": [
           {
            "marker": {
             "colorbar": {
              "outlinewidth": 0,
              "ticks": ""
             }
            },
            "type": "scattergeo"
           }
          ],
          "scattergl": [
           {
            "marker": {
             "colorbar": {
              "outlinewidth": 0,
              "ticks": ""
             }
            },
            "type": "scattergl"
           }
          ],
          "scattermapbox": [
           {
            "marker": {
             "colorbar": {
              "outlinewidth": 0,
              "ticks": ""
             }
            },
            "type": "scattermapbox"
           }
          ],
          "scatterpolar": [
           {
            "marker": {
             "colorbar": {
              "outlinewidth": 0,
              "ticks": ""
             }
            },
            "type": "scatterpolar"
           }
          ],
          "scatterpolargl": [
           {
            "marker": {
             "colorbar": {
              "outlinewidth": 0,
              "ticks": ""
             }
            },
            "type": "scatterpolargl"
           }
          ],
          "scatterternary": [
           {
            "marker": {
             "colorbar": {
              "outlinewidth": 0,
              "ticks": ""
             }
            },
            "type": "scatterternary"
           }
          ],
          "surface": [
           {
            "colorbar": {
             "outlinewidth": 0,
             "ticks": ""
            },
            "colorscale": [
             [
              0,
              "#0d0887"
             ],
             [
              0.1111111111111111,
              "#46039f"
             ],
             [
              0.2222222222222222,
              "#7201a8"
             ],
             [
              0.3333333333333333,
              "#9c179e"
             ],
             [
              0.4444444444444444,
              "#bd3786"
             ],
             [
              0.5555555555555556,
              "#d8576b"
             ],
             [
              0.6666666666666666,
              "#ed7953"
             ],
             [
              0.7777777777777778,
              "#fb9f3a"
             ],
             [
              0.8888888888888888,
              "#fdca26"
             ],
             [
              1,
              "#f0f921"
             ]
            ],
            "type": "surface"
           }
          ],
          "table": [
           {
            "cells": {
             "fill": {
              "color": "#EBF0F8"
             },
             "line": {
              "color": "white"
             }
            },
            "header": {
             "fill": {
              "color": "#C8D4E3"
             },
             "line": {
              "color": "white"
             }
            },
            "type": "table"
           }
          ]
         },
         "layout": {
          "annotationdefaults": {
           "arrowcolor": "#2a3f5f",
           "arrowhead": 0,
           "arrowwidth": 1
          },
          "autotypenumbers": "strict",
          "coloraxis": {
           "colorbar": {
            "outlinewidth": 0,
            "ticks": ""
           }
          },
          "colorscale": {
           "diverging": [
            [
             0,
             "#8e0152"
            ],
            [
             0.1,
             "#c51b7d"
            ],
            [
             0.2,
             "#de77ae"
            ],
            [
             0.3,
             "#f1b6da"
            ],
            [
             0.4,
             "#fde0ef"
            ],
            [
             0.5,
             "#f7f7f7"
            ],
            [
             0.6,
             "#e6f5d0"
            ],
            [
             0.7,
             "#b8e186"
            ],
            [
             0.8,
             "#7fbc41"
            ],
            [
             0.9,
             "#4d9221"
            ],
            [
             1,
             "#276419"
            ]
           ],
           "sequential": [
            [
             0,
             "#0d0887"
            ],
            [
             0.1111111111111111,
             "#46039f"
            ],
            [
             0.2222222222222222,
             "#7201a8"
            ],
            [
             0.3333333333333333,
             "#9c179e"
            ],
            [
             0.4444444444444444,
             "#bd3786"
            ],
            [
             0.5555555555555556,
             "#d8576b"
            ],
            [
             0.6666666666666666,
             "#ed7953"
            ],
            [
             0.7777777777777778,
             "#fb9f3a"
            ],
            [
             0.8888888888888888,
             "#fdca26"
            ],
            [
             1,
             "#f0f921"
            ]
           ],
           "sequentialminus": [
            [
             0,
             "#0d0887"
            ],
            [
             0.1111111111111111,
             "#46039f"
            ],
            [
             0.2222222222222222,
             "#7201a8"
            ],
            [
             0.3333333333333333,
             "#9c179e"
            ],
            [
             0.4444444444444444,
             "#bd3786"
            ],
            [
             0.5555555555555556,
             "#d8576b"
            ],
            [
             0.6666666666666666,
             "#ed7953"
            ],
            [
             0.7777777777777778,
             "#fb9f3a"
            ],
            [
             0.8888888888888888,
             "#fdca26"
            ],
            [
             1,
             "#f0f921"
            ]
           ]
          },
          "colorway": [
           "#636efa",
           "#EF553B",
           "#00cc96",
           "#ab63fa",
           "#FFA15A",
           "#19d3f3",
           "#FF6692",
           "#B6E880",
           "#FF97FF",
           "#FECB52"
          ],
          "font": {
           "color": "#2a3f5f"
          },
          "geo": {
           "bgcolor": "white",
           "lakecolor": "white",
           "landcolor": "#E5ECF6",
           "showlakes": true,
           "showland": true,
           "subunitcolor": "white"
          },
          "hoverlabel": {
           "align": "left"
          },
          "hovermode": "closest",
          "mapbox": {
           "style": "light"
          },
          "paper_bgcolor": "white",
          "plot_bgcolor": "#E5ECF6",
          "polar": {
           "angularaxis": {
            "gridcolor": "white",
            "linecolor": "white",
            "ticks": ""
           },
           "bgcolor": "#E5ECF6",
           "radialaxis": {
            "gridcolor": "white",
            "linecolor": "white",
            "ticks": ""
           }
          },
          "scene": {
           "xaxis": {
            "backgroundcolor": "#E5ECF6",
            "gridcolor": "white",
            "gridwidth": 2,
            "linecolor": "white",
            "showbackground": true,
            "ticks": "",
            "zerolinecolor": "white"
           },
           "yaxis": {
            "backgroundcolor": "#E5ECF6",
            "gridcolor": "white",
            "gridwidth": 2,
            "linecolor": "white",
            "showbackground": true,
            "ticks": "",
            "zerolinecolor": "white"
           },
           "zaxis": {
            "backgroundcolor": "#E5ECF6",
            "gridcolor": "white",
            "gridwidth": 2,
            "linecolor": "white",
            "showbackground": true,
            "ticks": "",
            "zerolinecolor": "white"
           }
          },
          "shapedefaults": {
           "line": {
            "color": "#2a3f5f"
           }
          },
          "ternary": {
           "aaxis": {
            "gridcolor": "white",
            "linecolor": "white",
            "ticks": ""
           },
           "baxis": {
            "gridcolor": "white",
            "linecolor": "white",
            "ticks": ""
           },
           "bgcolor": "#E5ECF6",
           "caxis": {
            "gridcolor": "white",
            "linecolor": "white",
            "ticks": ""
           }
          },
          "title": {
           "x": 0.05
          },
          "xaxis": {
           "automargin": true,
           "gridcolor": "white",
           "linecolor": "white",
           "ticks": "",
           "title": {
            "standoff": 15
           },
           "zerolinecolor": "white",
           "zerolinewidth": 2
          },
          "yaxis": {
           "automargin": true,
           "gridcolor": "white",
           "linecolor": "white",
           "ticks": "",
           "title": {
            "standoff": 15
           },
           "zerolinecolor": "white",
           "zerolinewidth": 2
          }
         }
        },
        "title": {
         "text": "Доходы по дням недели и регионам в процентах к общей сумме за неделю по региону"
        },
        "width": 900,
        "xaxis": {
         "side": "top"
        }
       }
      }
     },
     "metadata": {},
     "output_type": "display_data"
    }
   ],
   "source": [
    "# Рисуем heatmap\n",
    "fig = go.Figure(data=go.Heatmap(\n",
    "        z=df_wd_income.values,\n",
    "        x=df_wd_income.columns,\n",
    "        y=df_wd_income.index,\n",
    "        colorscale='Viridis'\n",
    "))\n",
    "        \n",
    "fig.update_xaxes(side=\"top\")\n",
    "\n",
    "fig.update_layout(\n",
    "    title='Доходы по дням недели и регионам в процентах к общей сумме за неделю по региону',\n",
    "    width = 900, \n",
    "    height = 1800,\n",
    ")\n",
    "\n",
    "\n",
    "fig.show()"
   ]
  },
  {
   "cell_type": "code",
   "execution_count": null,
   "metadata": {},
   "outputs": [],
   "source": []
  }
 ],
 "metadata": {
  "kernelspec": {
   "display_name": "venv",
   "language": "python",
   "name": "python3"
  },
  "language_info": {
   "codemirror_mode": {
    "name": "ipython",
    "version": 3
   },
   "file_extension": ".py",
   "mimetype": "text/x-python",
   "name": "python",
   "nbconvert_exporter": "python",
   "pygments_lexer": "ipython3",
   "version": "3.10.6"
  },
  "orig_nbformat": 4,
  "vscode": {
   "interpreter": {
    "hash": "63796e44d27cd835f750f74727fd47eb59fdce647e72c256b881c468ddaf7f08"
   }
  }
 },
 "nbformat": 4,
 "nbformat_minor": 2
}
